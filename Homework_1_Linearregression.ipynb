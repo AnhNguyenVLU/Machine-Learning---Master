{
  "nbformat": 4,
  "nbformat_minor": 0,
  "metadata": {
    "colab": {
      "name": "NguyenThaiAnh_122910_Homework_1_Linearregression.ipynb",
      "provenance": []
    },
    "kernelspec": {
      "name": "python3",
      "display_name": "Python 3"
    },
    "language_info": {
      "name": "python"
    },
    "accelerator": "GPU",
    "gpuClass": "standard"
  },
  "cells": [
    {
      "cell_type": "code",
      "source": [
        "#Name Nguyen Thai Anh\n",
        "#Student ID: 122910\n",
        "import numpy as np\n",
        "#Form the matrix X,y for height-weight dataset\n",
        "X=np.array([[180,162,183,174,160,163,180,165,175,170,170,169,168,175,169,171,155,158,175,165]])\n",
        "y=np.array([[86,55,86.5,70,62,54,60,72,93,89,60,82,59,75,56,84,45,60,60,72]])\n",
        "X,y"
      ],
      "metadata": {
        "colab": {
          "base_uri": "https://localhost:8080/"
        },
        "id": "Ukq2R3tIgywi",
        "outputId": "348982fc-617d-4dea-9f68-6d38da23633d"
      },
      "execution_count": 23,
      "outputs": [
        {
          "output_type": "execute_result",
          "data": {
            "text/plain": [
              "(array([[180, 162, 183, 174, 160, 163, 180, 165, 175, 170, 170, 169, 168,\n",
              "         175, 169, 171, 155, 158, 175, 165]]),\n",
              " array([[86. , 55. , 86.5, 70. , 62. , 54. , 60. , 72. , 93. , 89. , 60. ,\n",
              "         82. , 59. , 75. , 56. , 84. , 45. , 60. , 60. , 72. ]]))"
            ]
          },
          "metadata": {},
          "execution_count": 23
        }
      ]
    },
    {
      "cell_type": "code",
      "source": [
        "# I use LinearRegression library to find Theta_0 and Theta_1 values\n",
        "from sklearn.linear_model import LinearRegression\n",
        "\n",
        "# Create an instance of LinearRegression and fit the model to data with one command\n",
        "model_LinearRegression = LinearRegression().fit(X.T, y.T)\n",
        "\n",
        "# Use model_LinearRegression.intercept_ to find theta_0\n",
        "print(\"Theta_0 is\", model_LinearRegression.intercept_)\n",
        "\n",
        "# Use model_LinearRegression.coef_ to find theta_1\n",
        "print(\"Theta_1 is\", model_LinearRegression.coef_)"
      ],
      "metadata": {
        "colab": {
          "base_uri": "https://localhost:8080/"
        },
        "id": "bQj2BKIk_iI_",
        "outputId": "506b85b2-54f7-44e0-f138-1a832c00256e"
      },
      "execution_count": 24,
      "outputs": [
        {
          "output_type": "stream",
          "name": "stdout",
          "text": [
            "Theta_0 is [-113.72252533]\n",
            "Theta_1 is [[1.07911146]]\n"
          ]
        }
      ]
    }
  ]
}